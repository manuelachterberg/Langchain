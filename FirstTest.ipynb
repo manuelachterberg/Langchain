{
 "cells": [
  {
   "cell_type": "markdown",
   "id": "bfada4f2",
   "metadata": {},
   "source": [
    "# Using Language Models\n",
    "First up, let's learn how to use a language model by itself. LangChain supports many different language models that you can use interchangably - select the one you want to use below!"
   ]
  },
  {
   "cell_type": "code",
   "execution_count": 2,
   "id": "8ce5b138",
   "metadata": {},
   "outputs": [],
   "source": [
    "import getpass\n",
    "import os\n",
    "\n",
    "os.environ[\"LANGCHAIN_TRACING_V2\"] = \"true\"\n",
    "os.environ[\"LANGCHAIN_API_KEY\"] = \"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\"\n",
    "\n",
    "os.environ[\"OPENAI_API_KEY\"] = \"sk-proj-5fx7Rml7AzN1lUyC0BmuT3BlbkFJZZjPShuYnYXZ7QZXBvyG\"\n",
    "\n",
    "from langchain_openai import ChatOpenAI\n",
    "\n",
    "model = ChatOpenAI(model=\"gpt-4\")"
   ]
  },
  {
   "cell_type": "markdown",
   "id": "fbd6bd34-7246-4b1c-9d0e-9a1d059c892a",
   "metadata": {},
   "source": [
    "Let's first use the model directly. ChatModels are instances of LangChain \"Runnables\", which means they expose a standard interface for interacting with them. To just simply call the model, we can pass in a list of messages to the .invoke method."
   ]
  },
  {
   "cell_type": "code",
   "execution_count": 3,
   "id": "86e1bd4e-989d-4e72-9f1e-8efce2f064ac",
   "metadata": {},
   "outputs": [
    {
     "data": {
      "text/plain": [
       "AIMessage(content='ciao!', response_metadata={'token_usage': {'completion_tokens': 3, 'prompt_tokens': 20, 'total_tokens': 23}, 'model_name': 'gpt-4', 'system_fingerprint': None, 'finish_reason': 'stop', 'logprobs': None}, id='run-fa70fa1d-7466-4177-af80-851c32472f9f-0', usage_metadata={'input_tokens': 20, 'output_tokens': 3, 'total_tokens': 23})"
      ]
     },
     "execution_count": 3,
     "metadata": {},
     "output_type": "execute_result"
    }
   ],
   "source": [
    "from langchain_core.messages import HumanMessage, SystemMessage\n",
    "\n",
    "messages = [\n",
    "    SystemMessage(content=\"Translate the following from English into Italian\"),\n",
    "    HumanMessage(content=\"hi!\"),\n",
    "]\n",
    "\n",
    "model.invoke(messages)"
   ]
  },
  {
   "cell_type": "markdown",
   "id": "89c62200-da0a-4fbf-9ae8-1536098e0d03",
   "metadata": {},
   "source": [
    "API Reference:HumanMessage | SystemMessage"
   ]
  },
  {
   "cell_type": "markdown",
   "id": "de669bc5-b206-48ac-a208-15b7eecd4f7f",
   "metadata": {},
   "source": [
    "```python\n",
    "AIMessage(content='ciao!', response_metadata={'token_usage': {'completion_tokens': 3, 'prompt_tokens': 20, 'total_tokens': 23}, 'model_name': 'gpt-4', 'system_fingerprint': None, 'finish_reason': 'stop', 'logprobs': None}, id='run-fc5d7c88-9615-48ab-a3c7-425232b562c5-0')\n",
    "```"
   ]
  },
  {
   "cell_type": "markdown",
   "id": "d5709494-2c5d-46ce-94c0-79c8c0eab4fe",
   "metadata": {},
   "source": [
    "If we've enable LangSmith, we can see that this run is logged to LangSmith, and can see the LangSmith trace"
   ]
  },
  {
   "cell_type": "markdown",
   "id": "c7fe88b9-ba6c-43c1-9a3a-d2174d35f473",
   "metadata": {},
   "source": [
    "# Output Parsers"
   ]
  },
  {
   "cell_type": "markdown",
   "id": "ddf7b0c1-b4cf-41e2-8dc5-5507e6cefb8b",
   "metadata": {},
   "source": [
    "Notice that the response from the model is an AIMessage. This contains a string response along with other metadata about the response. Oftentimes we may just want to work with the string response. We can parse out just this response by using a simple output parser.\n",
    "\n",
    "We first import the simple output parser.from langchain_core.output_parsers import StrOutputParser"
   ]
  },
  {
   "cell_type": "code",
   "execution_count": 4,
   "id": "2d8ce4f7-be6f-41a9-835c-178f685d3dc1",
   "metadata": {},
   "outputs": [],
   "source": [
    "from langchain_core.output_parsers import StrOutputParser\n",
    "\n",
    "parser = StrOutputParser()"
   ]
  },
  {
   "cell_type": "markdown",
   "id": "14183b10-7ce0-449f-bd71-ce3784d2c97e",
   "metadata": {},
   "source": [
    "**API Reference:** [StrOutputParser](https://api.python.langchain.com/en/latest/output_parsers/langchain_core.output_parsers.string.StrOutputParser.html)"
   ]
  },
  {
   "cell_type": "markdown",
   "id": "216d6265-ed80-4738-866e-0d8bdfe52aa7",
   "metadata": {},
   "source": [
    "One way to use it is to use it by itself. For example, we could save the result of the language model call and then pass it to the parser."
   ]
  },
  {
   "cell_type": "code",
   "execution_count": 9,
   "id": "b09a9e06-9683-4801-9ce3-55d567fb8fa8",
   "metadata": {},
   "outputs": [],
   "source": [
    "result = model.invoke(messages)"
   ]
  },
  {
   "cell_type": "code",
   "execution_count": 10,
   "id": "23db6fd9-f3d5-461d-89ea-fdb9944dccd4",
   "metadata": {},
   "outputs": [
    {
     "data": {
      "text/plain": [
       "'Ciao!'"
      ]
     },
     "execution_count": 10,
     "metadata": {},
     "output_type": "execute_result"
    }
   ],
   "source": [
    "parser.invoke(result)"
   ]
  },
  {
   "cell_type": "markdown",
   "id": "4c5e3433-e2ed-40df-a469-b678c2a9df9a",
   "metadata": {},
   "source": [
    "More commonly, we can \"chain\" the model with this output parser. This means this output parser will get called everytime in this chain. This chain takes on the input type of the language model (string or list of message) and returns the output type of the output parser (string)."
   ]
  },
  {
   "cell_type": "markdown",
   "id": "e21f92aa-a0bf-400c-806b-4d8be85ddf99",
   "metadata": {},
   "source": [
    "We can easily create the chain using the | operator. The | operator is used in LangChain to combine two elements together."
   ]
  },
  {
   "cell_type": "code",
   "execution_count": 12,
   "id": "48b8f450-f284-4817-a973-920a5b72a894",
   "metadata": {},
   "outputs": [],
   "source": [
    "chain = model | parser"
   ]
  },
  {
   "cell_type": "code",
   "execution_count": 13,
   "id": "5d6c4476-4da2-4414-839d-9f00ab90a047",
   "metadata": {},
   "outputs": [
    {
     "data": {
      "text/plain": [
       "'Ciao!'"
      ]
     },
     "execution_count": 13,
     "metadata": {},
     "output_type": "execute_result"
    }
   ],
   "source": [
    "chain.invoke(messages)"
   ]
  },
  {
   "cell_type": "markdown",
   "id": "9c763cd7-5a37-4ddd-be4e-e0590b392513",
   "metadata": {},
   "source": [
    "If we now look at LangSmith, we can see that the chain has two steps: first the language model is called, then the result of that is passed to the output parser. We can see the [LangSmith trace](https://smith.langchain.com/public/f1bdf656-2739-42f7-ac7f-0f1dd712322f/r)"
   ]
  },
  {
   "cell_type": "markdown",
   "id": "1b4d98a2-e077-45d0-9247-7110731d335a",
   "metadata": {},
   "source": [
    "# Prompt Templates\n",
    "\n",
    "Right now we are passing a list of messages directly into the language model. Where does this list of messages come from? Usually, it is constructed from a combination of user input and application logic. This application logic usually takes the raw user input and transforms it into a list of messages ready to pass to the language model. Common transformations include adding a system message or formatting a template with the user input.\n",
    "\n",
    "PromptTemplates are a concept in LangChain designed to assist with this transformation. They take in raw user input and return data (a prompt) that is ready to pass into a language model.\n",
    "\n",
    "Let's create a PromptTemplate here. It will take in two user variables:\n",
    "\n",
    "    language: The language to translate text into\n",
    "    text: The text to translate"
   ]
  },
  {
   "cell_type": "code",
   "execution_count": 14,
   "id": "e37469c3-9c90-43ca-9430-de5c23d2dab6",
   "metadata": {},
   "outputs": [],
   "source": [
    "from langchain_core.prompts import ChatPromptTemplate"
   ]
  },
  {
   "cell_type": "markdown",
   "id": "c9de14cc-074b-4ff7-845c-ec1a9877eeec",
   "metadata": {},
   "source": [
    "API Reference:[ChatPromptTemplate](https://api.python.langchain.com/en/latest/prompts/langchain_core.prompts.chat.ChatPromptTemplate.html)"
   ]
  },
  {
   "cell_type": "markdown",
   "id": "cb18dc77-80d0-4e27-905c-3de56ad0b223",
   "metadata": {},
   "source": [
    "First, let's create a string that we will format to be the system message:"
   ]
  },
  {
   "cell_type": "code",
   "execution_count": 16,
   "id": "0982975a-810e-4748-b620-5d6c225e0716",
   "metadata": {},
   "outputs": [],
   "source": [
    "system_template = \"Translate the following into {language}:\""
   ]
  },
  {
   "cell_type": "markdown",
   "id": "87c3533a-f5cd-4d1a-9c0f-46defc7afe28",
   "metadata": {},
   "source": [
    "Next, we can create the PromptTemplate. This will be a combination of the system_template as well as a simpler template for where the put the text"
   ]
  },
  {
   "cell_type": "code",
   "execution_count": 17,
   "id": "7339e4df-119a-4d67-9e12-4085fb75c2e4",
   "metadata": {},
   "outputs": [],
   "source": [
    "prompt_template = ChatPromptTemplate.from_messages(\n",
    "    [(\"system\", system_template), (\"user\", \"{text}\")]\n",
    ")"
   ]
  },
  {
   "cell_type": "markdown",
   "id": "7cab7b35-89e6-4372-95db-09ca8cf7e569",
   "metadata": {},
   "source": [
    "The input to this prompt template is a dictionary. We can play around with this prompt template by itself to see what it does by itself"
   ]
  },
  {
   "cell_type": "code",
   "execution_count": 18,
   "id": "c18befc8-eb60-411d-a434-570be6e43436",
   "metadata": {},
   "outputs": [
    {
     "data": {
      "text/plain": [
       "ChatPromptValue(messages=[SystemMessage(content='Translate the following into italian:'), HumanMessage(content='hi')])"
      ]
     },
     "execution_count": 18,
     "metadata": {},
     "output_type": "execute_result"
    }
   ],
   "source": [
    "result = prompt_template.invoke({\"language\": \"italian\", \"text\": \"hi\"})\n",
    "\n",
    "result"
   ]
  },
  {
   "cell_type": "markdown",
   "id": "2a04e307-2acf-49cf-994e-fc2fc65f0e87",
   "metadata": {},
   "source": [
    "We can see that it returns a ChatPromptValue that consists of two messages. If we want to access the messages directly we do:"
   ]
  },
  {
   "cell_type": "code",
   "execution_count": 19,
   "id": "95d2ff6e-f000-4ec1-bf5f-efb6080192f8",
   "metadata": {},
   "outputs": [
    {
     "data": {
      "text/plain": [
       "[SystemMessage(content='Translate the following into italian:'),\n",
       " HumanMessage(content='hi')]"
      ]
     },
     "execution_count": 19,
     "metadata": {},
     "output_type": "execute_result"
    }
   ],
   "source": [
    "result.to_messages()"
   ]
  },
  {
   "cell_type": "markdown",
   "id": "11b15668-fcaa-475a-a2c7-a99e6a4beec3",
   "metadata": {},
   "source": [
    "# Chaining together components with LCEL"
   ]
  },
  {
   "cell_type": "markdown",
   "id": "8972d5ef-012a-454c-b8d1-f3a12ea87f42",
   "metadata": {},
   "source": [
    "We can now combine this with the model and the output parser from above using the pipe (|) operator:"
   ]
  },
  {
   "cell_type": "code",
   "execution_count": 20,
   "id": "0d083679-6020-45cc-be56-8ec0d4416685",
   "metadata": {},
   "outputs": [],
   "source": [
    "chain = prompt_template | model | parser"
   ]
  },
  {
   "cell_type": "code",
   "execution_count": 21,
   "id": "106ea1cc-67bd-46d6-bdd8-8de13e38ccea",
   "metadata": {},
   "outputs": [
    {
     "data": {
      "text/plain": [
       "'ciao'"
      ]
     },
     "execution_count": 21,
     "metadata": {},
     "output_type": "execute_result"
    }
   ],
   "source": [
    "chain.invoke({\"language\": \"italian\", \"text\": \"hi\"})"
   ]
  },
  {
   "cell_type": "code",
   "execution_count": null,
   "id": "4ac856f1-ae60-4916-a089-20fcf37e6d3b",
   "metadata": {},
   "outputs": [],
   "source": []
  }
 ],
 "metadata": {
  "kernelspec": {
   "display_name": "Python 3 (ipykernel)",
   "language": "python",
   "name": "python3"
  },
  "language_info": {
   "codemirror_mode": {
    "name": "ipython",
    "version": 3
   },
   "file_extension": ".py",
   "mimetype": "text/x-python",
   "name": "python",
   "nbconvert_exporter": "python",
   "pygments_lexer": "ipython3",
   "version": "3.12.4"
  }
 },
 "nbformat": 4,
 "nbformat_minor": 5
}
